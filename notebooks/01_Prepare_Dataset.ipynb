{
 "cells": [
  {
   "cell_type": "markdown",
   "metadata": {
    "id": "5meanco03N8G"
   },
   "source": [
    "#Preparing Dataset\n"
   ]
  },
  {
   "cell_type": "markdown",
   "metadata": {
    "id": "DgA5QzmY3bMK"
   },
   "source": [
    "## mounting google drive"
   ]
  },
  {
   "cell_type": "code",
   "execution_count": 3,
   "metadata": {
    "colab": {
     "base_uri": "https://localhost:8080/"
    },
    "executionInfo": {
     "elapsed": 22594,
     "status": "ok",
     "timestamp": 1754330885400,
     "user": {
      "displayName": "Mohammed Amaan Ahmad",
      "userId": "03525839472446409161"
     },
     "user_tz": -330
    },
    "id": "oOURsfus2JoK",
    "outputId": "e0a99d97-3ab7-4574-a59a-896ccc2d558a"
   },
   "outputs": [
    {
     "name": "stdout",
     "output_type": "stream",
     "text": [
      "Mounted at /content/drive\n"
     ]
    }
   ],
   "source": [
    "from google.colab import drive\n",
    "drive.mount('/content/drive')"
   ]
  },
  {
   "cell_type": "markdown",
   "metadata": {
    "id": "GH3hyTJT3ZDQ"
   },
   "source": [
    "## funciton for preparing data set for model\n"
   ]
  },
  {
   "cell_type": "code",
   "execution_count": 11,
   "metadata": {
    "executionInfo": {
     "elapsed": 16,
     "status": "ok",
     "timestamp": 1754331208571,
     "user": {
      "displayName": "Mohammed Amaan Ahmad",
      "userId": "03525839472446409161"
     },
     "user_tz": -330
    },
    "id": "KPxjvrUc3qHy"
   },
   "outputs": [],
   "source": [
    "import random\n",
    "import pandas as pd\n",
    "import numpy as np\n",
    "\n",
    "def generate_kidney_compatibility_dataset(num_samples=500):\n",
    "    blood_types = [\"A\", \"B\", \"AB\", \"O\"]\n",
    "    genders = [\"Male\", \"Female\"]\n",
    "    hla_a = [\"A1\", \"A2\", \"A3\"]\n",
    "    hla_b = [\"B7\", \"B8\", \"B27\"]\n",
    "    hla_c = [\"Cw3\", \"Cw4\", \"Cw5\"]\n",
    "    hla_drb1 = [\"DR1\", \"DR4\", \"DR7\"]\n",
    "    hla_dqb1 = [\"DQ2\", \"DQ3\", \"DQ4\"]\n",
    "    organ_type= \"kidney\"\n",
    "\n",
    "    data = []\n",
    "    for _ in range(num_samples):\n",
    "        # Donor fields\n",
    "        donor_id = random.randint(1000, 9999)\n",
    "        donor_age = random.randint(18, 65)\n",
    "        donor_gender = random.choice(genders)\n",
    "        donor_height = round(random.uniform(150, 190), 1)\n",
    "        donor_weight = round(random.uniform(48, 110), 1)\n",
    "        donor_blood_type = random.choice(blood_types)\n",
    "        donor_has_diabetes = random.choice([0, 1])\n",
    "        donor_has_hypertension = random.choice([0, 1])\n",
    "        donor_serum_creatinine = round(random.uniform(0.6, 2.0), 2)\n",
    "        donor_hla_a = random.choice(hla_a)\n",
    "        donor_hla_b = random.choice(hla_b)\n",
    "        donor_hla_c = random.choice(hla_c)\n",
    "        donor_hla_drb1 = random.choice(hla_drb1)\n",
    "        donor_hla_dqb1 = random.choice(hla_dqb1)\n",
    "        kdpi_score = round(np.clip(\n",
    "            0.9*donor_age + 5*donor_has_diabetes + 4*donor_has_hypertension + 5*(donor_serum_creatinine-1) + random.uniform(-10, 10),\n",
    "            0, 100), 1)\n",
    "\n",
    "        # Recipient fields\n",
    "        patient_id = random.randint(10000, 99999)\n",
    "        recipient_age = random.randint(8, 75)\n",
    "        recipient_gender = random.choice(genders)\n",
    "        recipient_height = round(random.uniform(140, 195), 1)\n",
    "        recipient_weight = round(random.uniform(35, 120), 1)\n",
    "        recipient_blood_type = random.choice(blood_types)\n",
    "        recipient_cpra_score = random.choices([random.uniform(0, 50), random.uniform(50, 99)], weights=[0.6, 0.4])[0]\n",
    "        recipient_years_dialysis = round(random.uniform(0, 8), 1)\n",
    "        recipient_previous_transplant = random.choice([0, 0, 0, 1])  # 1 is rarer\n",
    "        recipient_has_diabetes = random.choice([0, 1])\n",
    "        recipient_hla_a = random.choice(hla_a)\n",
    "        recipient_hla_b = random.choice(hla_b)\n",
    "        recipient_hla_c = random.choice(hla_c)\n",
    "        recipient_hla_drb1 = random.choice(hla_drb1)\n",
    "        recipient_hla_dqb1 = random.choice(hla_dqb1)\n",
    "        epts_score = np.clip(\n",
    "            4.7 * max(recipient_age-25,0)/100 +\n",
    "            1.26*recipient_has_diabetes +\n",
    "            3.98*recipient_previous_transplant +\n",
    "            3.15 * np.log(recipient_years_dialysis+1)/10 +\n",
    "            random.uniform(-0.3, 0.2), 0, 10) * 10\n",
    "\n",
    "        # Basic compatibility calculations\n",
    "        abo_compatible = int(donor_blood_type == recipient_blood_type or recipient_blood_type == \"AB\")\n",
    "        hla_match_a = int(donor_hla_a == recipient_hla_a)\n",
    "        hla_match_b = int(donor_hla_b == recipient_hla_b)\n",
    "        hla_match_c = int(donor_hla_c == recipient_hla_c)\n",
    "        hla_match_drb1 = int(donor_hla_drb1 == recipient_hla_drb1)\n",
    "        hla_match_dqb1 = int(donor_hla_dqb1 == recipient_hla_dqb1)\n",
    "        total_hla_mismatch = 6 - sum([\n",
    "            hla_match_a, hla_match_b, hla_match_c, hla_match_drb1, hla_match_dqb1\n",
    "        ])\n",
    "        # Simulate clinical match \"score\"\n",
    "        match_score = (\n",
    "            30 * abo_compatible +\n",
    "            5 * (6-total_hla_mismatch) +\n",
    "            10 * (recipient_cpra_score >= 80) +\n",
    "            5 * (abs(recipient_age-donor_age) <= 10) +\n",
    "            8 * (kdpi_score <= 35) +\n",
    "            8 * (epts_score <= 35) +\n",
    "            -3 * abs(recipient_years_dialysis-2)  # penalty for long dialysis\n",
    "        )\n",
    "\n",
    "        # Binary target: \"is highly compatible match\" (simulate as a function of above)\n",
    "        compatible = int(\n",
    "            abo_compatible and\n",
    "            total_hla_mismatch <= 4 and\n",
    "            kdpi_score < 70 and\n",
    "            epts_score < 70 and\n",
    "            match_score > 50\n",
    "        )\n",
    "\n",
    "        data.append({\n",
    "            # Donor features\n",
    "            \"organ_type\": organ_type,\"donor_id\": donor_id, \"donor_age\": donor_age, \"donor_gender\": donor_gender, \"donor_height\": donor_height,\n",
    "            \"donor_weight\": donor_weight, \"donor_blood_type\": donor_blood_type, \"donor_has_diabetes\": donor_has_diabetes,\n",
    "            \"donor_has_hypertension\": donor_has_hypertension, \"donor_serum_creatinine\": donor_serum_creatinine,\n",
    "            \"donor_hla_a\": donor_hla_a, \"donor_hla_b\": donor_hla_b, \"donor_hla_c\": donor_hla_c,\n",
    "            \"donor_hla_drb1\": donor_hla_drb1, \"donor_hla_dqb1\": donor_hla_dqb1, \"kdpi_score\": kdpi_score,\n",
    "            # Recipient features\n",
    "            \"patient_id\": patient_id, \"recipient_age\": recipient_age, \"recipient_gender\": recipient_gender,\n",
    "            \"recipient_height\": recipient_height, \"recipient_weight\": recipient_weight,\n",
    "            \"recipient_blood_type\": recipient_blood_type, \"recipient_cpra_score\": recipient_cpra_score,\n",
    "            \"recipient_years_dialysis\": recipient_years_dialysis,\n",
    "            \"recipient_previous_transplant\": recipient_previous_transplant,\n",
    "            \"recipient_has_diabetes\": recipient_has_diabetes,\n",
    "            \"recipient_hla_a\": recipient_hla_a, \"recipient_hla_b\": recipient_hla_b, \"recipient_hla_c\": recipient_hla_c,\n",
    "            \"recipient_hla_drb1\": recipient_hla_drb1, \"recipient_hla_dqb1\": recipient_hla_dqb1, \"epts_score\": epts_score,\n",
    "            # Compatibility features\n",
    "            \"abo_compatible\": abo_compatible, \"total_hla_mismatch\": total_hla_mismatch,\n",
    "            # Label/Score\n",
    "            \"match_score\": np.clip(match_score, 0, 100),\n",
    "            \"compatible\": compatible  # <--- Binary label\n",
    "        })\n",
    "\n",
    "    # df = pd.DataFrame(data)\n",
    "    # df.to_csv(\"kidney_compatibility_matches.csv\", index=False)\n",
    "    # return df\n",
    "    return pd.DataFrame(data)\n",
    "\n",
    "# Generate the dummy dataset (uncomment to create file)\n",
    "# df = generate_kidney_compatibility_dataset(1000)\n"
   ]
  },
  {
   "cell_type": "markdown",
   "metadata": {
    "id": "_JibxRVp4ska"
   },
   "source": [
    "## saving it into google drive\n"
   ]
  },
  {
   "cell_type": "code",
   "execution_count": 12,
   "metadata": {
    "colab": {
     "base_uri": "https://localhost:8080/"
    },
    "executionInfo": {
     "elapsed": 1800,
     "status": "ok",
     "timestamp": 1754331213462,
     "user": {
      "displayName": "Mohammed Amaan Ahmad",
      "userId": "03525839472446409161"
     },
     "user_tz": -330
    },
    "id": "a-xIH3qh4sRv",
    "outputId": "fa7fdbff-7224-440e-cb26-ec980c89e4e3"
   },
   "outputs": [
    {
     "name": "stdout",
     "output_type": "stream",
     "text": [
      "Drive already mounted at /content/drive; to attempt to forcibly remount, call drive.mount(\"/content/drive\", force_remount=True).\n",
      "Dataset saved to /content/drive/MyDrive/organ_matching_project/dummy_organ_data_kidney.csv\n"
     ]
    }
   ],
   "source": [
    "import os\n",
    "if __name__ == \"__main__\":\n",
    "    # Mount Google Drive\n",
    "    from google.colab import drive\n",
    "    drive.mount('/content/drive')\n",
    "\n",
    "    # Create a folder for the project in Drive\n",
    "    save_path = \"/content/drive/MyDrive/organ_matching_project\"\n",
    "    os.makedirs(save_path, exist_ok=True)\n",
    "\n",
    "    df = generate_kidney_compatibility_dataset(500)\n",
    "    csv_path = os.path.join(save_path, \"dummy_organ_data_kidney.csv\")\n",
    "    df.to_csv(csv_path, index=False)\n",
    "    print(f\"Dataset saved to {csv_path}\")\n"
   ]
  },
  {
   "cell_type": "code",
   "execution_count": null,
   "metadata": {
    "id": "pyj85m3SRvvV"
   },
   "outputs": [],
   "source": []
  }
 ],
 "metadata": {
  "colab": {
   "authorship_tag": "ABX9TyOzAjOevTlShl3RGIgIgYI4",
   "provenance": []
  },
  "kernelspec": {
   "display_name": "Python 3",
   "name": "python3"
  },
  "language_info": {
   "name": "python"
  }
 },
 "nbformat": 4,
 "nbformat_minor": 0
}
