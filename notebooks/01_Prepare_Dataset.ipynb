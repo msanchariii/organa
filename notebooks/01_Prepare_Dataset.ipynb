{
 "cells": [
  {
   "cell_type": "markdown",
   "metadata": {
    "id": "5meanco03N8G"
   },
   "source": [
    "# Preparing Dataset with Google colab and Google drive\n"
   ]
  },
  {
   "cell_type": "markdown",
   "metadata": {
    "id": "DgA5QzmY3bMK"
   },
   "source": [
    "## mounting google drive"
   ]
  },
  {
   "cell_type": "code",
   "execution_count": 6,
   "metadata": {
    "colab": {
     "base_uri": "https://localhost:8080/"
    },
    "executionInfo": {
     "elapsed": 30099,
     "status": "ok",
     "timestamp": 1753904633085,
     "user": {
      "displayName": "Mohammed Amaan Ahmad",
      "userId": "03525839472446409161"
     },
     "user_tz": -330
    },
    "id": "oOURsfus2JoK",
    "outputId": "2bf652ca-8aba-4eb8-bd13-d6aeb8628d16"
   },
   "outputs": [
    {
     "ename": "ModuleNotFoundError",
     "evalue": "No module named 'google.colab'",
     "output_type": "error",
     "traceback": [
      "\u001b[1;31m---------------------------------------------------------------------------\u001b[0m",
      "\u001b[1;31mModuleNotFoundError\u001b[0m                       Traceback (most recent call last)",
      "Cell \u001b[1;32mIn[6], line 1\u001b[0m\n\u001b[1;32m----> 1\u001b[0m \u001b[38;5;28;01mfrom\u001b[39;00m \u001b[38;5;21;01mgoogle\u001b[39;00m\u001b[38;5;21;01m.\u001b[39;00m\u001b[38;5;21;01mcolab\u001b[39;00m \u001b[38;5;28;01mimport\u001b[39;00m drive\n\u001b[0;32m      2\u001b[0m drive\u001b[38;5;241m.\u001b[39mmount(\u001b[38;5;124m'\u001b[39m\u001b[38;5;124m/content/drive\u001b[39m\u001b[38;5;124m'\u001b[39m)\n",
      "\u001b[1;31mModuleNotFoundError\u001b[0m: No module named 'google.colab'"
     ]
    }
   ],
   "source": [
    "from google.colab import drive\n",
    "drive.mount('/content/drive')"
   ]
  },
  {
   "cell_type": "markdown",
   "metadata": {
    "id": "GH3hyTJT3ZDQ"
   },
   "source": [
    "## A function to prepare a data set for our model\n"
   ]
  },
  {
   "cell_type": "code",
   "execution_count": null,
   "metadata": {
    "executionInfo": {
     "elapsed": 578,
     "status": "ok",
     "timestamp": 1753905079464,
     "user": {
      "displayName": "Mohammed Amaan Ahmad",
      "userId": "03525839472446409161"
     },
     "user_tz": -330
    },
    "id": "KPxjvrUc3qHy"
   },
   "outputs": [],
   "source": [
    "import random\n",
    "import pandas as pd\n",
    "import os\n",
    "\n",
    "def create_dataset(num_samples=500):\n",
    "    organ_types = [\"Kidney\", \"Liver\", \"Heart\", \"Lung\"]\n",
    "    blood_types = [\"A\", \"B\", \"AB\", \"O\"]\n",
    "    genders = [\"Male\", \"Female\"]\n",
    "    hla_a = [\"A1\", \"A2\", \"A3\"]\n",
    "    hla_b = [\"B7\", \"B8\", \"B27\"]\n",
    "    hla_c = [\"Cw3\", \"Cw4\", \"Cw5\"]\n",
    "    hla_drb1 = [\"DR1\", \"DR4\", \"DR7\"]\n",
    "    hla_dqb1 = [\"DQ2\", \"DQ3\", \"DQ4\"]\n",
    "\n",
    "    data = []\n",
    "    for _ in range(num_samples):\n",
    "        donor_organ = random.choice(organ_types)\n",
    "        donor_blood = random.choice(blood_types)\n",
    "        donor_age = random.randint(18, 60)\n",
    "        donor_gender = random.choice(genders)\n",
    "        donor_hla = {\n",
    "            \"hla_a\": random.choice(hla_a),\n",
    "            \"hla_b\": random.choice(hla_b),\n",
    "            \"hla_c\": random.choice(hla_c),\n",
    "            \"hla_drb1\": random.choice(hla_drb1),\n",
    "            \"hla_dqb1\": random.choice(hla_dqb1),\n",
    "        }\n",
    "\n",
    "        patient_organ = donor_organ if random.random() > 0.3 else random.choice(organ_types)\n",
    "        patient_blood = random.choice(blood_types)\n",
    "        patient_age = random.randint(5, 70)\n",
    "        patient_gender = random.choice(genders)\n",
    "        patient_priority = random.randint(1, 5)\n",
    "        patient_hla = {\n",
    "            \"hla_a_p\": random.choice(hla_a),\n",
    "            \"hla_b_p\": random.choice(hla_b),\n",
    "            \"hla_c_p\": random.choice(hla_c),\n",
    "            \"hla_drb1_p\": random.choice(hla_drb1),\n",
    "            \"hla_dqb1_p\": random.choice(hla_dqb1),\n",
    "        }\n",
    "\n",
    "        score = 0\n",
    "        if donor_blood == patient_blood or patient_blood == \"AB\":\n",
    "            score += 30\n",
    "        if donor_organ == patient_organ:\n",
    "            score += 20\n",
    "        hla_matches = sum(\n",
    "            donor_hla[key.replace(\"_p\", \"\")] == patient_hla[key]\n",
    "            for key in patient_hla\n",
    "        )\n",
    "        score += hla_matches * 5\n",
    "        score += patient_priority * 10\n",
    "        if donor_gender == patient_gender:\n",
    "            score += 5\n",
    "        age_diff = abs(donor_age - patient_age)\n",
    "        score += 10 if age_diff <= 10 else (5 if age_diff <= 20 else 0)\n",
    "\n",
    "        data.append({\n",
    "            \"organ_type\": donor_organ,\n",
    "            \"donor_blood_type\": donor_blood,\n",
    "            \"donor_age\": donor_age,\n",
    "            \"donor_gender\": donor_gender,\n",
    "            **donor_hla,\n",
    "            \"organ_needed\": patient_organ,\n",
    "            \"blood_type\": patient_blood,\n",
    "            \"age\": patient_age,\n",
    "            \"gender\": patient_gender,\n",
    "            \"priority_status\": patient_priority,\n",
    "            **patient_hla,\n",
    "            \"score\": min(score, 100)\n",
    "        })\n",
    "\n",
    "    return pd.DataFrame(data)\n",
    "\n"
   ]
  },
  {
   "cell_type": "markdown",
   "metadata": {
    "id": "_JibxRVp4ska"
   },
   "source": [
    "## Calling funciton and saving it into google drive\n"
   ]
  },
  {
   "cell_type": "code",
   "execution_count": 7,
   "metadata": {
    "colab": {
     "base_uri": "https://localhost:8080/"
    },
    "executionInfo": {
     "elapsed": 4036,
     "status": "ok",
     "timestamp": 1753905088741,
     "user": {
      "displayName": "Mohammed Amaan Ahmad",
      "userId": "03525839472446409161"
     },
     "user_tz": -330
    },
    "id": "a-xIH3qh4sRv",
    "outputId": "2e4da37c-25ba-47bd-ade5-edb82dc91fda"
   },
   "outputs": [
    {
     "name": "stdout",
     "output_type": "stream",
     "text": [
      "Drive already mounted at /content/drive; to attempt to forcibly remount, call drive.mount(\"/content/drive\", force_remount=True).\n",
      "Dataset saved to /content/drive/MyDrive/organ_matching_project/dummy_organ_data.csv\n"
     ]
    }
   ],
   "source": [
    "if __name__ == \"__main__\":\n",
    "    # Mount Google Drive\n",
    "    from google.colab import drive\n",
    "    drive.mount('/content/drive')\n",
    "\n",
    "    # Create a folder for the project in Drive\n",
    "    save_path = \"/content/drive/MyDrive/organ_matching_project\"\n",
    "    os.makedirs(save_path, exist_ok=True)\n",
    "\n",
    "    df = create_dataset(400)\n",
    "    csv_path = os.path.join(save_path, \"dummy_organ_data.csv\")\n",
    "    df.to_csv(csv_path, index=False)\n",
    "    print(f\"Dataset saved to {csv_path}\")\n"
   ]
  }
 ],
 "metadata": {
  "colab": {
   "authorship_tag": "ABX9TyOHvGTLz4bzh2cQiaBbWCoj",
   "provenance": []
  },
  "kernelspec": {
   "display_name": "Python 3",
   "name": "python3"
  },
  "language_info": {
   "codemirror_mode": {
    "name": "ipython",
    "version": 3
   },
   "file_extension": ".py",
   "mimetype": "text/x-python",
   "name": "python",
   "nbconvert_exporter": "python",
   "pygments_lexer": "ipython3",
   "version": "3.12.3"
  }
 },
 "nbformat": 4,
 "nbformat_minor": 0
}
