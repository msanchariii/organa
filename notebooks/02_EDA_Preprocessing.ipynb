{
 "cells": [
  {
   "cell_type": "markdown",
   "metadata": {
    "id": "DvNOIj_DGZdz"
   },
   "source": [
    "\n",
    "# Exploratory Data Analysis (EDA) + Preprocessing\n"
   ]
  },
  {
   "cell_type": "markdown",
   "metadata": {
    "id": "Y8VovxS8GicH"
   },
   "source": [
    "## --- 1. Imports And Loding Data ---"
   ]
  },
  {
   "cell_type": "code",
   "execution_count": 3,
   "metadata": {
    "colab": {
     "base_uri": "https://localhost:8080/"
    },
    "executionInfo": {
     "elapsed": 3415,
     "status": "ok",
     "timestamp": 1753992861779,
     "user": {
      "displayName": "Mohammed Amaan Ahmad",
      "userId": "03525839472446409161"
     },
     "user_tz": -330
    },
    "id": "pDMS_yYeFu4N",
    "outputId": "7a8b6db6-62fb-4fd8-e472-c8fb83e6cd18"
   },
   "outputs": [
    {
     "name": "stdout",
     "output_type": "stream",
     "text": [
      "Drive already mounted at /content/drive; to attempt to forcibly remount, call drive.mount(\"/content/drive\", force_remount=True).\n",
      "Dataset loaded: 400 rows, 20 columns\n"
     ]
    }
   ],
   "source": [
    "import pandas as pd\n",
    "import numpy as np\n",
    "import matplotlib.pyplot as plt\n",
    "import seaborn as sns\n",
    "import os\n",
    "\n",
    "from google.colab import drive\n",
    "drive.mount('/content/drive')\n",
    "data_path = \"/content/drive/MyDrive/organ_matching_project/dummy_organ_data.csv\"\n",
    "\n",
    "# For local VS Code:\n",
    "# data_path = \"../server/app/ml/data/dummy_organ_data.csv\"\n",
    "\n",
    "df = pd.read_csv(data_path)\n",
    "print(f\"Dataset loaded: {df.shape[0]} rows, {df.shape[1]} columns\")"
   ]
  },
  {
   "cell_type": "markdown",
   "metadata": {
    "id": "gnW7kxWsHMhN"
   },
   "source": [
    "## --- 3. Initial Data Overview ---"
   ]
  },
  {
   "cell_type": "code",
   "execution_count": 7,
   "metadata": {
    "colab": {
     "base_uri": "https://localhost:8080/"
    },
    "executionInfo": {
     "elapsed": 20,
     "status": "ok",
     "timestamp": 1753993003580,
     "user": {
      "displayName": "Mohammed Amaan Ahmad",
      "userId": "03525839472446409161"
     },
     "user_tz": -330
    },
    "id": "RSv_rvhUHPcE",
    "outputId": "2be80044-5d49-48bc-8f9f-ab9792c690b0"
   },
   "outputs": [
    {
     "name": "stdout",
     "output_type": "stream",
     "text": [
      "\n",
      "First 5 rows:\n",
      "  organ_type donor_blood_type  donor_age donor_gender hla_a hla_b hla_c  \\\n",
      "0       Lung                O         50         Male    A2    B7   Cw4   \n",
      "1     Kidney               AB         30         Male    A1    B8   Cw3   \n",
      "2      Liver               AB         46         Male    A3    B8   Cw5   \n",
      "3      Liver               AB         24         Male    A2    B8   Cw4   \n",
      "4      Liver                B         31       Female    A2    B8   Cw5   \n",
      "\n",
      "  hla_drb1 hla_dqb1 organ_needed blood_type  age  gender  priority_status  \\\n",
      "0      DR1      DQ2         Lung          B   39    Male                3   \n",
      "1      DR1      DQ2         Lung         AB   13    Male                4   \n",
      "2      DR7      DQ2        Liver         AB   39  Female                4   \n",
      "3      DR4      DQ3        Liver          A   52    Male                2   \n",
      "4      DR1      DQ2         Lung          A   53  Female                1   \n",
      "\n",
      "  hla_a_p hla_b_p hla_c_p hla_drb1_p hla_dqb1_p  score  \n",
      "0      A1      B7     Cw5        DR4        DQ4     65  \n",
      "1      A1     B27     Cw5        DR7        DQ3     85  \n",
      "2      A3      B7     Cw5        DR4        DQ4    100  \n",
      "3      A3      B8     Cw3        DR1        DQ2     50  \n",
      "4      A3      B8     Cw3        DR4        DQ2     25  \n",
      "\n",
      "Dataset Info:\n",
      "<class 'pandas.core.frame.DataFrame'>\n",
      "RangeIndex: 400 entries, 0 to 399\n",
      "Data columns (total 20 columns):\n",
      " #   Column            Non-Null Count  Dtype \n",
      "---  ------            --------------  ----- \n",
      " 0   organ_type        400 non-null    object\n",
      " 1   donor_blood_type  400 non-null    object\n",
      " 2   donor_age         400 non-null    int64 \n",
      " 3   donor_gender      400 non-null    object\n",
      " 4   hla_a             400 non-null    object\n",
      " 5   hla_b             400 non-null    object\n",
      " 6   hla_c             400 non-null    object\n",
      " 7   hla_drb1          400 non-null    object\n",
      " 8   hla_dqb1          400 non-null    object\n",
      " 9   organ_needed      400 non-null    object\n",
      " 10  blood_type        400 non-null    object\n",
      " 11  age               400 non-null    int64 \n",
      " 12  gender            400 non-null    object\n",
      " 13  priority_status   400 non-null    int64 \n",
      " 14  hla_a_p           400 non-null    object\n",
      " 15  hla_b_p           400 non-null    object\n",
      " 16  hla_c_p           400 non-null    object\n",
      " 17  hla_drb1_p        400 non-null    object\n",
      " 18  hla_dqb1_p        400 non-null    object\n",
      " 19  score             400 non-null    int64 \n",
      "dtypes: int64(4), object(16)\n",
      "memory usage: 62.6+ KB\n",
      "None\n",
      "\n",
      "Missing Values:\n",
      "organ_type          0\n",
      "donor_blood_type    0\n",
      "donor_age           0\n",
      "donor_gender        0\n",
      "hla_a               0\n",
      "hla_b               0\n",
      "hla_c               0\n",
      "hla_drb1            0\n",
      "hla_dqb1            0\n",
      "organ_needed        0\n",
      "blood_type          0\n",
      "age                 0\n",
      "gender              0\n",
      "priority_status     0\n",
      "hla_a_p             0\n",
      "hla_b_p             0\n",
      "hla_c_p             0\n",
      "hla_drb1_p          0\n",
      "hla_dqb1_p          0\n",
      "score               0\n",
      "dtype: int64\n"
     ]
    }
   ],
   "source": [
    "print(\"\\nFirst 5 rows:\")\n",
    "print(df.head())\n",
    "\n",
    "print(\"\\nDataset Info:\")\n",
    "print(df.info())\n",
    "\n",
    "print(\"\\nMissing Values:\")\n",
    "print(df.isnull().sum())\n"
   ]
  },
  {
   "cell_type": "markdown",
   "metadata": {
    "id": "u-OKQWDXIdm-"
   },
   "source": [
    "## --- 4. Basic Statistics ---"
   ]
  },
  {
   "cell_type": "code",
   "execution_count": null,
   "metadata": {
    "id": "47RWHRx3HdWF"
   },
   "outputs": [],
   "source": [
    "print(\"\\nBasic Statistics:\")\n",
    "print(df.describe(include='all'))"
   ]
  },
  {
   "cell_type": "markdown",
   "metadata": {
    "id": "3h6m5MfhIsWv"
   },
   "source": [
    "## --- 5. Visualizations ---"
   ]
  },
  {
   "cell_type": "code",
   "execution_count": null,
   "metadata": {
    "id": "87hevTUXIonu"
   },
   "outputs": [],
   "source": [
    "plt.figure(figsize=(6,4))\n",
    "sns.countplot(x='organ_type', data=df)\n",
    "plt.title('Distribution of Organ Types')\n",
    "plt.show()\n",
    "\n",
    "plt.figure(figsize=(6,4))\n",
    "sns.countplot(x='donor_blood_type', data=df)\n",
    "plt.title('Distribution of Donor Blood Types')\n",
    "plt.show()\n",
    "\n",
    "plt.figure(figsize=(6,4))\n",
    "sns.histplot(df['donor_age'], kde=True, bins=20)\n",
    "plt.title('Distribution of Donor Age')\n",
    "plt.show()\n",
    "\n",
    "plt.figure(figsize=(6,4))\n",
    "sns.histplot(df['age'], kde=True, bins=20)\n",
    "plt.title('Distribution of Patient Age')\n",
    "plt.show()\n",
    "\n",
    "# Correlation heatmap (numerical only)\n",
    "plt.figure(figsize=(10,6))\n",
    "sns.heatmap(df.corr(numeric_only=True), annot=True, cmap='coolwarm')\n",
    "plt.title('Correlation Heatmap')\n",
    "plt.show()"
   ]
  },
  {
   "cell_type": "markdown",
   "metadata": {
    "id": "Fau32k9HJGSo"
   },
   "source": [
    "## --- 6. Handle Missing Values ---"
   ]
  },
  {
   "cell_type": "code",
   "execution_count": null,
   "metadata": {
    "id": "TZNLClCJJDyD"
   },
   "outputs": [],
   "source": [
    "df.fillna('Unknown', inplace=True)"
   ]
  },
  {
   "cell_type": "markdown",
   "metadata": {
    "id": "2hKnmxLFJNbz"
   },
   "source": [
    "## --- 7. Encode Categorical Features ---"
   ]
  },
  {
   "cell_type": "code",
   "execution_count": 10,
   "metadata": {
    "executionInfo": {
     "elapsed": 107,
     "status": "ok",
     "timestamp": 1753993271638,
     "user": {
      "displayName": "Mohammed Amaan Ahmad",
      "userId": "03525839472446409161"
     },
     "user_tz": -330
    },
    "id": "GXkM29kMJMQD"
   },
   "outputs": [],
   "source": [
    "from sklearn.preprocessing import LabelEncoder\n",
    "\n",
    "categorical_cols = [\n",
    "    \"organ_type\", \"donor_blood_type\", \"donor_gender\",\n",
    "    \"hla_a\", \"hla_b\", \"hla_c\", \"hla_drb1\", \"hla_dqb1\",\n",
    "    \"organ_needed\", \"blood_type\", \"gender\",\n",
    "    \"hla_a_p\", \"hla_b_p\", \"hla_c_p\", \"hla_drb1_p\", \"hla_dqb1_p\"\n",
    "]\n",
    "\n",
    "encoders = {}\n",
    "for col in categorical_cols:\n",
    "    le = LabelEncoder()\n",
    "    df[col] = le.fit_transform(df[col])\n",
    "    encoders[col] = le\n"
   ]
  },
  {
   "cell_type": "markdown",
   "metadata": {
    "id": "zT0UgeM5JzfS"
   },
   "source": [
    "## --- 8. Save Preprocessed Data ---"
   ]
  },
  {
   "cell_type": "code",
   "execution_count": 11,
   "metadata": {
    "colab": {
     "base_uri": "https://localhost:8080/"
    },
    "executionInfo": {
     "elapsed": 18,
     "status": "ok",
     "timestamp": 1753993344529,
     "user": {
      "displayName": "Mohammed Amaan Ahmad",
      "userId": "03525839472446409161"
     },
     "user_tz": -330
    },
    "id": "DkpI2AUuJWoN",
    "outputId": "e50c2758-6ca9-445b-d682-1d183c07ccfc"
   },
   "outputs": [
    {
     "name": "stdout",
     "output_type": "stream",
     "text": [
      "\n",
      "Processed dataset saved to: /content/drive/MyDrive/organ_matching_project/processed_organ_data.csv\n"
     ]
    }
   ],
   "source": [
    "\n",
    "processed_path = \"/content/drive/MyDrive/organ_matching_project/processed_organ_data.csv\"\n",
    "os.makedirs(os.path.dirname(processed_path), exist_ok=True)\n",
    "df.to_csv(processed_path, index=False)\n",
    "print(f\"\\nProcessed dataset saved to: {processed_path}\")"
   ]
  },
  {
   "cell_type": "markdown",
   "metadata": {
    "id": "H9pHzvZ_Kb78"
   },
   "source": [
    "### --- 9. Save Encoders (Optional) ---"
   ]
  },
  {
   "cell_type": "code",
   "execution_count": 12,
   "metadata": {
    "colab": {
     "base_uri": "https://localhost:8080/"
    },
    "executionInfo": {
     "elapsed": 50,
     "status": "ok",
     "timestamp": 1753993438855,
     "user": {
      "displayName": "Mohammed Amaan Ahmad",
      "userId": "03525839472446409161"
     },
     "user_tz": -330
    },
    "id": "dhBQZ0EVJ4Ip",
    "outputId": "5f279536-b712-4f9a-8ac9-fbf7b3f1a5e3"
   },
   "outputs": [
    {
     "name": "stdout",
     "output_type": "stream",
     "text": [
      "Encoders saved to: /content/drive/MyDrive/organ_matching_project/label_encoders.pkl\n"
     ]
    }
   ],
   "source": [
    "\n",
    "import pickle\n",
    "encoder_path = \"/content/drive/MyDrive/organ_matching_project/label_encoders.pkl\"\n",
    "with open(encoder_path, 'wb') as f:\n",
    "    pickle.dump(encoders, f)\n",
    "print(f\"Encoders saved to: {encoder_path}\")"
   ]
  }
 ],
 "metadata": {
  "accelerator": "GPU",
  "colab": {
   "authorship_tag": "ABX9TyOypR1svDUT7zbtuve3lGaI",
   "gpuType": "T4",
   "provenance": []
  },
  "kernelspec": {
   "display_name": "Python 3",
   "name": "python3"
  },
  "language_info": {
   "name": "python"
  }
 },
 "nbformat": 4,
 "nbformat_minor": 0
}
